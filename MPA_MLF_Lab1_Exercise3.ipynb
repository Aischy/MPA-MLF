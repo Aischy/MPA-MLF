{
  "nbformat": 4,
  "nbformat_minor": 0,
  "metadata": {
    "colab": {
      "provenance": [],
      "authorship_tag": "ABX9TyOIU6UWuL/JzXzpKocbpDkv",
      "include_colab_link": true
    },
    "kernelspec": {
      "name": "python3",
      "display_name": "Python 3"
    },
    "language_info": {
      "name": "python"
    }
  },
  "cells": [
    {
      "cell_type": "markdown",
      "metadata": {
        "id": "view-in-github",
        "colab_type": "text"
      },
      "source": [
        "<a href=\"https://colab.research.google.com/github/Aischy/MPA-MLF/blob/main/MPA_MLF_Lab1_Exercise3.ipynb\" target=\"_parent\"><img src=\"https://colab.research.google.com/assets/colab-badge.svg\" alt=\"Open In Colab\"/></a>"
      ]
    },
    {
      "cell_type": "markdown",
      "source": [
        "**Import California Housing Dataset**"
      ],
      "metadata": {
        "id": "DDwz2E3zfTT5"
      }
    },
    {
      "cell_type": "code",
      "execution_count": 26,
      "metadata": {
        "id": "4l6ezR2jeyBe",
        "colab": {
          "base_uri": "https://localhost:8080/"
        },
        "outputId": "e0fd6f49-9ac7-4a03-da8e-76f621346774"
      },
      "outputs": [
        {
          "output_type": "stream",
          "name": "stdout",
          "text": [
            "   longitude  latitude  housing_median_age  total_rooms  total_bedrooms  \\\n",
            "0    -114.31     34.19                15.0       5612.0          1283.0   \n",
            "1    -114.47     34.40                19.0       7650.0          1901.0   \n",
            "2    -114.56     33.69                17.0        720.0           174.0   \n",
            "3    -114.57     33.64                14.0       1501.0           337.0   \n",
            "4    -114.57     33.57                20.0       1454.0           326.0   \n",
            "\n",
            "   population  households  median_income  median_house_value  \n",
            "0      1015.0       472.0         1.4936             66900.0  \n",
            "1      1129.0       463.0         1.8200             80100.0  \n",
            "2       333.0       117.0         1.6509             85700.0  \n",
            "3       515.0       226.0         3.1917             73400.0  \n",
            "4       624.0       262.0         1.9250             65500.0  \n"
          ]
        }
      ],
      "source": [
        "import pandas as pd\n",
        "import matplotlib.pyplot as plt\n",
        "\n",
        "# Loading the California Housing Dataset\n",
        "url = 'https://download.mlcc.google.com/mledu-datasets/california_housing_train.csv'\n",
        "dataset = pd.read_csv(url)\n",
        "\n",
        "# Display first lines to check data loading\n",
        "print(dataset.head())\n"
      ]
    },
    {
      "cell_type": "markdown",
      "source": [
        "* **Check what dataset.describe() does**\n",
        "> The pandas `describe()` function provides a statistical summary of the DataFrame's characteristics, such as mean, standard deviation, minimum and maximum values, as well as quantiles for each numerical column.\n",
        "\n",
        "\n",
        "\n",
        "\n"
      ],
      "metadata": {
        "id": "STOdDm-4fAzl"
      }
    },
    {
      "cell_type": "code",
      "source": [
        "dataset.describe()"
      ],
      "metadata": {
        "id": "hdB9CN7zfiYW",
        "colab": {
          "base_uri": "https://localhost:8080/",
          "height": 300
        },
        "outputId": "1584b283-1277-4109-fc82-e10143750d46"
      },
      "execution_count": 27,
      "outputs": [
        {
          "output_type": "execute_result",
          "data": {
            "text/plain": [
              "          longitude      latitude  housing_median_age   total_rooms  \\\n",
              "count  17000.000000  17000.000000        17000.000000  17000.000000   \n",
              "mean    -119.562108     35.625225           28.589353   2643.664412   \n",
              "std        2.005166      2.137340           12.586937   2179.947071   \n",
              "min     -124.350000     32.540000            1.000000      2.000000   \n",
              "25%     -121.790000     33.930000           18.000000   1462.000000   \n",
              "50%     -118.490000     34.250000           29.000000   2127.000000   \n",
              "75%     -118.000000     37.720000           37.000000   3151.250000   \n",
              "max     -114.310000     41.950000           52.000000  37937.000000   \n",
              "\n",
              "       total_bedrooms    population    households  median_income  \\\n",
              "count    17000.000000  17000.000000  17000.000000   17000.000000   \n",
              "mean       539.410824   1429.573941    501.221941       3.883578   \n",
              "std        421.499452   1147.852959    384.520841       1.908157   \n",
              "min          1.000000      3.000000      1.000000       0.499900   \n",
              "25%        297.000000    790.000000    282.000000       2.566375   \n",
              "50%        434.000000   1167.000000    409.000000       3.544600   \n",
              "75%        648.250000   1721.000000    605.250000       4.767000   \n",
              "max       6445.000000  35682.000000   6082.000000      15.000100   \n",
              "\n",
              "       median_house_value  \n",
              "count        17000.000000  \n",
              "mean        207300.912353  \n",
              "std         115983.764387  \n",
              "min          14999.000000  \n",
              "25%         119400.000000  \n",
              "50%         180400.000000  \n",
              "75%         265000.000000  \n",
              "max         500001.000000  "
            ],
            "text/html": [
              "\n",
              "  <div id=\"df-51cd9b7d-db47-4efb-b3c7-430a050a3b5a\" class=\"colab-df-container\">\n",
              "    <div>\n",
              "<style scoped>\n",
              "    .dataframe tbody tr th:only-of-type {\n",
              "        vertical-align: middle;\n",
              "    }\n",
              "\n",
              "    .dataframe tbody tr th {\n",
              "        vertical-align: top;\n",
              "    }\n",
              "\n",
              "    .dataframe thead th {\n",
              "        text-align: right;\n",
              "    }\n",
              "</style>\n",
              "<table border=\"1\" class=\"dataframe\">\n",
              "  <thead>\n",
              "    <tr style=\"text-align: right;\">\n",
              "      <th></th>\n",
              "      <th>longitude</th>\n",
              "      <th>latitude</th>\n",
              "      <th>housing_median_age</th>\n",
              "      <th>total_rooms</th>\n",
              "      <th>total_bedrooms</th>\n",
              "      <th>population</th>\n",
              "      <th>households</th>\n",
              "      <th>median_income</th>\n",
              "      <th>median_house_value</th>\n",
              "    </tr>\n",
              "  </thead>\n",
              "  <tbody>\n",
              "    <tr>\n",
              "      <th>count</th>\n",
              "      <td>17000.000000</td>\n",
              "      <td>17000.000000</td>\n",
              "      <td>17000.000000</td>\n",
              "      <td>17000.000000</td>\n",
              "      <td>17000.000000</td>\n",
              "      <td>17000.000000</td>\n",
              "      <td>17000.000000</td>\n",
              "      <td>17000.000000</td>\n",
              "      <td>17000.000000</td>\n",
              "    </tr>\n",
              "    <tr>\n",
              "      <th>mean</th>\n",
              "      <td>-119.562108</td>\n",
              "      <td>35.625225</td>\n",
              "      <td>28.589353</td>\n",
              "      <td>2643.664412</td>\n",
              "      <td>539.410824</td>\n",
              "      <td>1429.573941</td>\n",
              "      <td>501.221941</td>\n",
              "      <td>3.883578</td>\n",
              "      <td>207300.912353</td>\n",
              "    </tr>\n",
              "    <tr>\n",
              "      <th>std</th>\n",
              "      <td>2.005166</td>\n",
              "      <td>2.137340</td>\n",
              "      <td>12.586937</td>\n",
              "      <td>2179.947071</td>\n",
              "      <td>421.499452</td>\n",
              "      <td>1147.852959</td>\n",
              "      <td>384.520841</td>\n",
              "      <td>1.908157</td>\n",
              "      <td>115983.764387</td>\n",
              "    </tr>\n",
              "    <tr>\n",
              "      <th>min</th>\n",
              "      <td>-124.350000</td>\n",
              "      <td>32.540000</td>\n",
              "      <td>1.000000</td>\n",
              "      <td>2.000000</td>\n",
              "      <td>1.000000</td>\n",
              "      <td>3.000000</td>\n",
              "      <td>1.000000</td>\n",
              "      <td>0.499900</td>\n",
              "      <td>14999.000000</td>\n",
              "    </tr>\n",
              "    <tr>\n",
              "      <th>25%</th>\n",
              "      <td>-121.790000</td>\n",
              "      <td>33.930000</td>\n",
              "      <td>18.000000</td>\n",
              "      <td>1462.000000</td>\n",
              "      <td>297.000000</td>\n",
              "      <td>790.000000</td>\n",
              "      <td>282.000000</td>\n",
              "      <td>2.566375</td>\n",
              "      <td>119400.000000</td>\n",
              "    </tr>\n",
              "    <tr>\n",
              "      <th>50%</th>\n",
              "      <td>-118.490000</td>\n",
              "      <td>34.250000</td>\n",
              "      <td>29.000000</td>\n",
              "      <td>2127.000000</td>\n",
              "      <td>434.000000</td>\n",
              "      <td>1167.000000</td>\n",
              "      <td>409.000000</td>\n",
              "      <td>3.544600</td>\n",
              "      <td>180400.000000</td>\n",
              "    </tr>\n",
              "    <tr>\n",
              "      <th>75%</th>\n",
              "      <td>-118.000000</td>\n",
              "      <td>37.720000</td>\n",
              "      <td>37.000000</td>\n",
              "      <td>3151.250000</td>\n",
              "      <td>648.250000</td>\n",
              "      <td>1721.000000</td>\n",
              "      <td>605.250000</td>\n",
              "      <td>4.767000</td>\n",
              "      <td>265000.000000</td>\n",
              "    </tr>\n",
              "    <tr>\n",
              "      <th>max</th>\n",
              "      <td>-114.310000</td>\n",
              "      <td>41.950000</td>\n",
              "      <td>52.000000</td>\n",
              "      <td>37937.000000</td>\n",
              "      <td>6445.000000</td>\n",
              "      <td>35682.000000</td>\n",
              "      <td>6082.000000</td>\n",
              "      <td>15.000100</td>\n",
              "      <td>500001.000000</td>\n",
              "    </tr>\n",
              "  </tbody>\n",
              "</table>\n",
              "</div>\n",
              "    <div class=\"colab-df-buttons\">\n",
              "\n",
              "  <div class=\"colab-df-container\">\n",
              "    <button class=\"colab-df-convert\" onclick=\"convertToInteractive('df-51cd9b7d-db47-4efb-b3c7-430a050a3b5a')\"\n",
              "            title=\"Convert this dataframe to an interactive table.\"\n",
              "            style=\"display:none;\">\n",
              "\n",
              "  <svg xmlns=\"http://www.w3.org/2000/svg\" height=\"24px\" viewBox=\"0 -960 960 960\">\n",
              "    <path d=\"M120-120v-720h720v720H120Zm60-500h600v-160H180v160Zm220 220h160v-160H400v160Zm0 220h160v-160H400v160ZM180-400h160v-160H180v160Zm440 0h160v-160H620v160ZM180-180h160v-160H180v160Zm440 0h160v-160H620v160Z\"/>\n",
              "  </svg>\n",
              "    </button>\n",
              "\n",
              "  <style>\n",
              "    .colab-df-container {\n",
              "      display:flex;\n",
              "      gap: 12px;\n",
              "    }\n",
              "\n",
              "    .colab-df-convert {\n",
              "      background-color: #E8F0FE;\n",
              "      border: none;\n",
              "      border-radius: 50%;\n",
              "      cursor: pointer;\n",
              "      display: none;\n",
              "      fill: #1967D2;\n",
              "      height: 32px;\n",
              "      padding: 0 0 0 0;\n",
              "      width: 32px;\n",
              "    }\n",
              "\n",
              "    .colab-df-convert:hover {\n",
              "      background-color: #E2EBFA;\n",
              "      box-shadow: 0px 1px 2px rgba(60, 64, 67, 0.3), 0px 1px 3px 1px rgba(60, 64, 67, 0.15);\n",
              "      fill: #174EA6;\n",
              "    }\n",
              "\n",
              "    .colab-df-buttons div {\n",
              "      margin-bottom: 4px;\n",
              "    }\n",
              "\n",
              "    [theme=dark] .colab-df-convert {\n",
              "      background-color: #3B4455;\n",
              "      fill: #D2E3FC;\n",
              "    }\n",
              "\n",
              "    [theme=dark] .colab-df-convert:hover {\n",
              "      background-color: #434B5C;\n",
              "      box-shadow: 0px 1px 3px 1px rgba(0, 0, 0, 0.15);\n",
              "      filter: drop-shadow(0px 1px 2px rgba(0, 0, 0, 0.3));\n",
              "      fill: #FFFFFF;\n",
              "    }\n",
              "  </style>\n",
              "\n",
              "    <script>\n",
              "      const buttonEl =\n",
              "        document.querySelector('#df-51cd9b7d-db47-4efb-b3c7-430a050a3b5a button.colab-df-convert');\n",
              "      buttonEl.style.display =\n",
              "        google.colab.kernel.accessAllowed ? 'block' : 'none';\n",
              "\n",
              "      async function convertToInteractive(key) {\n",
              "        const element = document.querySelector('#df-51cd9b7d-db47-4efb-b3c7-430a050a3b5a');\n",
              "        const dataTable =\n",
              "          await google.colab.kernel.invokeFunction('convertToInteractive',\n",
              "                                                    [key], {});\n",
              "        if (!dataTable) return;\n",
              "\n",
              "        const docLinkHtml = 'Like what you see? Visit the ' +\n",
              "          '<a target=\"_blank\" href=https://colab.research.google.com/notebooks/data_table.ipynb>data table notebook</a>'\n",
              "          + ' to learn more about interactive tables.';\n",
              "        element.innerHTML = '';\n",
              "        dataTable['output_type'] = 'display_data';\n",
              "        await google.colab.output.renderOutput(dataTable, element);\n",
              "        const docLink = document.createElement('div');\n",
              "        docLink.innerHTML = docLinkHtml;\n",
              "        element.appendChild(docLink);\n",
              "      }\n",
              "    </script>\n",
              "  </div>\n",
              "\n",
              "\n",
              "<div id=\"df-ad0e4e16-1a6d-4b1a-b520-be7ad1652806\">\n",
              "  <button class=\"colab-df-quickchart\" onclick=\"quickchart('df-ad0e4e16-1a6d-4b1a-b520-be7ad1652806')\"\n",
              "            title=\"Suggest charts\"\n",
              "            style=\"display:none;\">\n",
              "\n",
              "<svg xmlns=\"http://www.w3.org/2000/svg\" height=\"24px\"viewBox=\"0 0 24 24\"\n",
              "     width=\"24px\">\n",
              "    <g>\n",
              "        <path d=\"M19 3H5c-1.1 0-2 .9-2 2v14c0 1.1.9 2 2 2h14c1.1 0 2-.9 2-2V5c0-1.1-.9-2-2-2zM9 17H7v-7h2v7zm4 0h-2V7h2v10zm4 0h-2v-4h2v4z\"/>\n",
              "    </g>\n",
              "</svg>\n",
              "  </button>\n",
              "\n",
              "<style>\n",
              "  .colab-df-quickchart {\n",
              "      --bg-color: #E8F0FE;\n",
              "      --fill-color: #1967D2;\n",
              "      --hover-bg-color: #E2EBFA;\n",
              "      --hover-fill-color: #174EA6;\n",
              "      --disabled-fill-color: #AAA;\n",
              "      --disabled-bg-color: #DDD;\n",
              "  }\n",
              "\n",
              "  [theme=dark] .colab-df-quickchart {\n",
              "      --bg-color: #3B4455;\n",
              "      --fill-color: #D2E3FC;\n",
              "      --hover-bg-color: #434B5C;\n",
              "      --hover-fill-color: #FFFFFF;\n",
              "      --disabled-bg-color: #3B4455;\n",
              "      --disabled-fill-color: #666;\n",
              "  }\n",
              "\n",
              "  .colab-df-quickchart {\n",
              "    background-color: var(--bg-color);\n",
              "    border: none;\n",
              "    border-radius: 50%;\n",
              "    cursor: pointer;\n",
              "    display: none;\n",
              "    fill: var(--fill-color);\n",
              "    height: 32px;\n",
              "    padding: 0;\n",
              "    width: 32px;\n",
              "  }\n",
              "\n",
              "  .colab-df-quickchart:hover {\n",
              "    background-color: var(--hover-bg-color);\n",
              "    box-shadow: 0 1px 2px rgba(60, 64, 67, 0.3), 0 1px 3px 1px rgba(60, 64, 67, 0.15);\n",
              "    fill: var(--button-hover-fill-color);\n",
              "  }\n",
              "\n",
              "  .colab-df-quickchart-complete:disabled,\n",
              "  .colab-df-quickchart-complete:disabled:hover {\n",
              "    background-color: var(--disabled-bg-color);\n",
              "    fill: var(--disabled-fill-color);\n",
              "    box-shadow: none;\n",
              "  }\n",
              "\n",
              "  .colab-df-spinner {\n",
              "    border: 2px solid var(--fill-color);\n",
              "    border-color: transparent;\n",
              "    border-bottom-color: var(--fill-color);\n",
              "    animation:\n",
              "      spin 1s steps(1) infinite;\n",
              "  }\n",
              "\n",
              "  @keyframes spin {\n",
              "    0% {\n",
              "      border-color: transparent;\n",
              "      border-bottom-color: var(--fill-color);\n",
              "      border-left-color: var(--fill-color);\n",
              "    }\n",
              "    20% {\n",
              "      border-color: transparent;\n",
              "      border-left-color: var(--fill-color);\n",
              "      border-top-color: var(--fill-color);\n",
              "    }\n",
              "    30% {\n",
              "      border-color: transparent;\n",
              "      border-left-color: var(--fill-color);\n",
              "      border-top-color: var(--fill-color);\n",
              "      border-right-color: var(--fill-color);\n",
              "    }\n",
              "    40% {\n",
              "      border-color: transparent;\n",
              "      border-right-color: var(--fill-color);\n",
              "      border-top-color: var(--fill-color);\n",
              "    }\n",
              "    60% {\n",
              "      border-color: transparent;\n",
              "      border-right-color: var(--fill-color);\n",
              "    }\n",
              "    80% {\n",
              "      border-color: transparent;\n",
              "      border-right-color: var(--fill-color);\n",
              "      border-bottom-color: var(--fill-color);\n",
              "    }\n",
              "    90% {\n",
              "      border-color: transparent;\n",
              "      border-bottom-color: var(--fill-color);\n",
              "    }\n",
              "  }\n",
              "</style>\n",
              "\n",
              "  <script>\n",
              "    async function quickchart(key) {\n",
              "      const quickchartButtonEl =\n",
              "        document.querySelector('#' + key + ' button');\n",
              "      quickchartButtonEl.disabled = true;  // To prevent multiple clicks.\n",
              "      quickchartButtonEl.classList.add('colab-df-spinner');\n",
              "      try {\n",
              "        const charts = await google.colab.kernel.invokeFunction(\n",
              "            'suggestCharts', [key], {});\n",
              "      } catch (error) {\n",
              "        console.error('Error during call to suggestCharts:', error);\n",
              "      }\n",
              "      quickchartButtonEl.classList.remove('colab-df-spinner');\n",
              "      quickchartButtonEl.classList.add('colab-df-quickchart-complete');\n",
              "    }\n",
              "    (() => {\n",
              "      let quickchartButtonEl =\n",
              "        document.querySelector('#df-ad0e4e16-1a6d-4b1a-b520-be7ad1652806 button');\n",
              "      quickchartButtonEl.style.display =\n",
              "        google.colab.kernel.accessAllowed ? 'block' : 'none';\n",
              "    })();\n",
              "  </script>\n",
              "</div>\n",
              "    </div>\n",
              "  </div>\n"
            ]
          },
          "metadata": {},
          "execution_count": 27
        }
      ]
    },
    {
      "cell_type": "markdown",
      "source": [
        "* **display all rows where total_bedrooms column is bigger than 310**\n",
        "\n"
      ],
      "metadata": {
        "id": "R-PBOG2_g0XA"
      }
    },
    {
      "cell_type": "code",
      "source": [
        "filtered_rows = dataset[dataset['total_bedrooms'] > 310]\n",
        "print(filtered_rows)"
      ],
      "metadata": {
        "id": "tk9aXQzng_XB",
        "colab": {
          "base_uri": "https://localhost:8080/"
        },
        "outputId": "5ea93a5c-325a-4e10-9dd8-c2d20f72ddc9"
      },
      "execution_count": 28,
      "outputs": [
        {
          "output_type": "stream",
          "name": "stdout",
          "text": [
            "       longitude  latitude  housing_median_age  total_rooms  total_bedrooms  \\\n",
            "0        -114.31     34.19                15.0       5612.0          1283.0   \n",
            "1        -114.47     34.40                19.0       7650.0          1901.0   \n",
            "3        -114.57     33.64                14.0       1501.0           337.0   \n",
            "4        -114.57     33.57                20.0       1454.0           326.0   \n",
            "6        -114.58     33.61                25.0       2907.0           680.0   \n",
            "...          ...       ...                 ...          ...             ...   \n",
            "16994    -124.25     40.28                32.0       1430.0           419.0   \n",
            "16995    -124.26     40.58                52.0       2217.0           394.0   \n",
            "16996    -124.27     40.69                36.0       2349.0           528.0   \n",
            "16997    -124.30     41.84                17.0       2677.0           531.0   \n",
            "16998    -124.30     41.80                19.0       2672.0           552.0   \n",
            "\n",
            "       population  households  median_income  median_house_value  \n",
            "0          1015.0       472.0         1.4936             66900.0  \n",
            "1          1129.0       463.0         1.8200             80100.0  \n",
            "3           515.0       226.0         3.1917             73400.0  \n",
            "4           624.0       262.0         1.9250             65500.0  \n",
            "6          1841.0       633.0         2.6768             82400.0  \n",
            "...           ...         ...            ...                 ...  \n",
            "16994       434.0       187.0         1.9417             76100.0  \n",
            "16995       907.0       369.0         2.3571            111400.0  \n",
            "16996      1194.0       465.0         2.5179             79000.0  \n",
            "16997      1244.0       456.0         3.0313            103600.0  \n",
            "16998      1298.0       478.0         1.9797             85800.0  \n",
            "\n",
            "[12320 rows x 9 columns]\n"
          ]
        }
      ]
    },
    {
      "cell_type": "markdown",
      "source": [
        "* **drop also first and last row**"
      ],
      "metadata": {
        "id": "qKS6IiwghMbh"
      }
    },
    {
      "cell_type": "code",
      "source": [
        "print(\"Before drop : \")\n",
        "print(dataset.head(1))\n",
        "print(dataset.tail(1))\n",
        "\n",
        "dataset = dataset.iloc[1:-1]\n",
        "\n",
        "print(\"\\n\\n After drop : \")\n",
        "print(dataset.head(1))\n",
        "print(dataset.tail(1))"
      ],
      "metadata": {
        "id": "gsNzY6waiO2c",
        "colab": {
          "base_uri": "https://localhost:8080/"
        },
        "outputId": "35cc098a-3fbc-4cf0-c03f-ee0363578346"
      },
      "execution_count": 29,
      "outputs": [
        {
          "output_type": "stream",
          "name": "stdout",
          "text": [
            "Before drop : \n",
            "   longitude  latitude  housing_median_age  total_rooms  total_bedrooms  \\\n",
            "0    -114.31     34.19                15.0       5612.0          1283.0   \n",
            "\n",
            "   population  households  median_income  median_house_value  \n",
            "0      1015.0       472.0         1.4936             66900.0  \n",
            "       longitude  latitude  housing_median_age  total_rooms  total_bedrooms  \\\n",
            "16999    -124.35     40.54                52.0       1820.0           300.0   \n",
            "\n",
            "       population  households  median_income  median_house_value  \n",
            "16999       806.0       270.0         3.0147             94600.0  \n",
            "\n",
            "\n",
            " After drop : \n",
            "   longitude  latitude  housing_median_age  total_rooms  total_bedrooms  \\\n",
            "1    -114.47      34.4                19.0       7650.0          1901.0   \n",
            "\n",
            "   population  households  median_income  median_house_value  \n",
            "1      1129.0       463.0           1.82             80100.0  \n",
            "       longitude  latitude  housing_median_age  total_rooms  total_bedrooms  \\\n",
            "16998     -124.3      41.8                19.0       2672.0           552.0   \n",
            "\n",
            "       population  households  median_income  median_house_value  \n",
            "16998      1298.0       478.0         1.9797             85800.0  \n"
          ]
        }
      ]
    },
    {
      "cell_type": "markdown",
      "source": [
        "* **save a mean of values in households columns to variable, using matplotlib display number of households in the graph (x-axis would be ID, y-axis - numbers of households) as dots with the same color, display also mean as a single line in the graph with different color as dots is**"
      ],
      "metadata": {
        "id": "m00YG0bnhQky"
      }
    },
    {
      "cell_type": "code",
      "source": [
        "mean_households = dataset['households'].mean()\n",
        "plt.scatter(dataset.index, dataset['households'], label='Households')\n",
        "plt.axhline(y=mean_households, color='r', linestyle='-', label='Mean')\n",
        "plt.xlabel('ID')\n",
        "plt.ylabel('Number of Households')\n",
        "plt.legend()\n",
        "plt.show()"
      ],
      "metadata": {
        "colab": {
          "base_uri": "https://localhost:8080/",
          "height": 449
        },
        "id": "sc0JeiOmj4h1",
        "outputId": "7baf544f-9cd8-409c-963f-18b83636ea7b"
      },
      "execution_count": 30,
      "outputs": [
        {
          "output_type": "display_data",
          "data": {
            "text/plain": [
              "<Figure size 640x480 with 1 Axes>"
            ],
            "image/png": "[encoded data removed]"
          },
          "metadata": {}
        }
      ]
    },
    {
      "cell_type": "markdown",
      "source": [
        "* **check if any of the columns contain NaN values, if yes, replace the NaN values with the arithmetic mean of the whole dataset**"
      ],
      "metadata": {
        "id": "Kci2rFTBhV10"
      }
    },
    {
      "cell_type": "code",
      "source": [
        "dataset.fillna(dataset.mean(), inplace=True)"
      ],
      "metadata": {
        "id": "ilr9VS_7kgsg"
      },
      "execution_count": 31,
      "outputs": []
    },
    {
      "cell_type": "markdown",
      "source": [
        "* **display lat and long into plot, lat would be on x axis and long on y axis**"
      ],
      "metadata": {
        "id": "uXdmMxW6haOx"
      }
    },
    {
      "cell_type": "code",
      "source": [
        "plt.scatter(dataset['latitude'], dataset['longitude'])\n",
        "plt.xlabel('Lat')\n",
        "plt.ylabel('Long')\n",
        "plt.show()"
      ],
      "metadata": {
        "colab": {
          "base_uri": "https://localhost:8080/",
          "height": 454
        },
        "id": "vsDv7O3Vkk0F",
        "outputId": "098e92c3-8d8d-48c7-f5c9-1e0686cd2347"
      },
      "execution_count": 32,
      "outputs": [
        {
          "output_type": "display_data",
          "data": {
            "text/plain": [
              "<Figure size 640x480 with 1 Axes>"
            ],
            "image/png": "[encoded data removed]"
          },
          "metadata": {}
        }
      ]
    },
    {
      "cell_type": "markdown",
      "source": [
        "* **choose two arbitrary columns and normalize all values inside using min-max normalization**"
      ],
      "metadata": {
        "id": "ef8jd9Ahhcqz"
      }
    },
    {
      "cell_type": "code",
      "source": [
        "dataset['population_normalized'] = (dataset['population'] - dataset['population'].min()) / (dataset['population'].max() - dataset['population'].min())\n",
        "dataset['total_bedrooms_normalized'] = (dataset['total_bedrooms'] - dataset['total_bedrooms'].min()) / (dataset['total_bedrooms'].max() - dataset['total_bedrooms'].min())\n",
        "\n",
        "# Display new normalized columns for first rows\n",
        "print(dataset[['population_normalized', 'total_bedrooms_normalized']].head())"
      ],
      "metadata": {
        "colab": {
          "base_uri": "https://localhost:8080/"
        },
        "id": "UCCZVJEgk_WU",
        "outputId": "8f499342-bb85-4a27-82e0-58bd217e8292"
      },
      "execution_count": 25,
      "outputs": [
        {
          "output_type": "stream",
          "name": "stdout",
          "text": [
            "   population_normalized  total_bedrooms_normalized\n",
            "0               0.028364                   0.198945\n",
            "1               0.031559                   0.294848\n",
            "2               0.009249                   0.026847\n",
            "3               0.014350                   0.052142\n",
            "4               0.017405                   0.050435\n"
          ]
        }
      ]
    },
    {
      "cell_type": "markdown",
      "source": [
        "* **Create a Correlation Matrix from all columns**"
      ],
      "metadata": {
        "id": "I-0IucAohjJV"
      }
    },
    {
      "cell_type": "code",
      "source": [
        "correlation_matrix = dataset.corr()\n",
        "print(correlation_matrix)"
      ],
      "metadata": {
        "colab": {
          "base_uri": "https://localhost:8080/"
        },
        "id": "fKoe9LCml7C3",
        "outputId": "6c0db190-5a53-43ce-ada8-6da795faedef"
      },
      "execution_count": 23,
      "outputs": [
        {
          "output_type": "stream",
          "name": "stdout",
          "text": [
            "                    longitude  latitude  housing_median_age  total_rooms  \\\n",
            "longitude            1.000000 -0.925208           -0.114250     0.047010   \n",
            "latitude            -0.925208  1.000000            0.016454    -0.038773   \n",
            "housing_median_age  -0.114250  0.016454            1.000000    -0.360984   \n",
            "total_rooms          0.047010 -0.038773           -0.360984     1.000000   \n",
            "total_bedrooms       0.071802 -0.069373           -0.320434     0.928403   \n",
            "population           0.101674 -0.111261           -0.295890     0.860170   \n",
            "households           0.059628 -0.074902           -0.302754     0.919018   \n",
            "median_income       -0.015485 -0.080303           -0.115932     0.195383   \n",
            "median_house_value  -0.044982 -0.144917            0.106758     0.130991   \n",
            "\n",
            "                    total_bedrooms  population  households  median_income  \\\n",
            "longitude                 0.071802    0.101674    0.059628      -0.015485   \n",
            "latitude                 -0.069373   -0.111261   -0.074902      -0.080303   \n",
            "housing_median_age       -0.320434   -0.295890   -0.302754      -0.115932   \n",
            "total_rooms               0.928403    0.860170    0.919018       0.195383   \n",
            "total_bedrooms            1.000000    0.881169    0.980920      -0.013495   \n",
            "population                0.881169    1.000000    0.909247      -0.000638   \n",
            "households                0.980920    0.909247    1.000000       0.007644   \n",
            "median_income            -0.013495   -0.000638    0.007644       1.000000   \n",
            "median_house_value        0.045783   -0.027850    0.061031       0.691871   \n",
            "\n",
            "                    median_house_value  \n",
            "longitude                    -0.044982  \n",
            "latitude                     -0.144917  \n",
            "housing_median_age            0.106758  \n",
            "total_rooms                   0.130991  \n",
            "total_bedrooms                0.045783  \n",
            "population                   -0.027850  \n",
            "households                    0.061031  \n",
            "median_income                 0.691871  \n",
            "median_house_value            1.000000  \n"
          ]
        }
      ]
    }
  ]
}