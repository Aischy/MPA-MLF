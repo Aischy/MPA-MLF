{
  "cells": [
    {
      "cell_type": "markdown",
      "metadata": {
        "id": "view-in-github",
        "colab_type": "text"
      },
      "source": [
        "<a href=\"https://colab.research.google.com/github/Aischy/MPA-MLF/blob/main/Ex_07.ipynb\" target=\"_parent\"><img src=\"https://colab.research.google.com/assets/colab-badge.svg\" alt=\"Open In Colab\"/></a>"
      ]
    },
    {
      "cell_type": "markdown",
      "id": "9457fdc4-1690-4c41-8e88-1597fc2a687c",
      "metadata": {
        "id": "9457fdc4-1690-4c41-8e88-1597fc2a687c"
      },
      "source": [
        " # MPA-MLF, Lab 7 - Convolutional Neural Network"
      ]
    },
    {
      "cell_type": "markdown",
      "id": "ffa6be62-ed89-4801-b297-f1a1211ce297",
      "metadata": {
        "id": "ffa6be62-ed89-4801-b297-f1a1211ce297"
      },
      "source": [
        "## Exercise - Hand-written digits recognition"
      ]
    },
    {
      "cell_type": "markdown",
      "id": "89808395-7ffe-4df1-91e5-f31ce090b932",
      "metadata": {
        "id": "89808395-7ffe-4df1-91e5-f31ce090b932"
      },
      "source": [
        "Create CNN which will process and recognize handwritten digits. For this purposes please use the MNIST database (Modified National Institute of Standards and Technology database) which is a large database of handwritten digits that is commonly used for training various image processing systems.\n",
        "\n",
        "The datasample of the MNIST datasets can be see in the following picture"
      ]
    },
    {
      "cell_type": "markdown",
      "id": "87b6e2b8-73da-4476-b47d-2f4aafead049",
      "metadata": {
        "id": "87b6e2b8-73da-4476-b47d-2f4aafead049"
      },
      "source": [
        "![mnist_data_sample.png](attachment:eb3e0d6a-ccb0-499d-9847-ecbc554dbce0.png)"
      ]
    },
    {
      "cell_type": "markdown",
      "id": "0c65f181-d971-4f0e-ba63-17c242a65d6c",
      "metadata": {
        "id": "0c65f181-d971-4f0e-ba63-17c242a65d6c"
      },
      "source": [
        "### Task description"
      ]
    },
    {
      "cell_type": "markdown",
      "id": "1b6b04cf-eeec-404a-824b-f9aa1d3b7d7a",
      "metadata": {
        "id": "1b6b04cf-eeec-404a-824b-f9aa1d3b7d7a"
      },
      "source": [
        "In the terms of machine learning, the Hand-written digits recognition can be threated as a multi-class classification problem. This is very important knowledge to structure our model in the correct way (Especially the output-layer, including the number of neurons and activations function and the overall loss function and classification metrics)"
      ]
    },
    {
      "cell_type": "markdown",
      "id": "b724de14-3931-4983-b443-7e0106d190dc",
      "metadata": {
        "id": "b724de14-3931-4983-b443-7e0106d190dc"
      },
      "source": [
        "### 0. Import libraries"
      ]
    },
    {
      "cell_type": "markdown",
      "id": "1ffd9b11-f9c1-4b3f-8dd1-cbb18487a075",
      "metadata": {
        "id": "1ffd9b11-f9c1-4b3f-8dd1-cbb18487a075"
      },
      "source": [
        "Import the all necessary libraries, you can get inspired by the previous exercises. You can improst the libraries gradually, when do you progressing with the task"
      ]
    },
    {
      "cell_type": "code",
      "execution_count": 49,
      "id": "1f692dd4-0262-4e7a-b029-69d8280f14d2",
      "metadata": {
        "id": "1f692dd4-0262-4e7a-b029-69d8280f14d2"
      },
      "outputs": [],
      "source": [
        "from tensorflow import keras\n",
        "from keras.models import Sequential\n",
        "from keras.datasets import mnist\n",
        "import numpy as np\n",
        "import matplotlib\n",
        "import matplotlib.pyplot as plt\n",
        "\n",
        "###################################\n",
        "# Write your own code here #\n",
        "from keras.utils import to_categorical\n",
        "from keras.layers import Dense, Flatten, Conv2D, MaxPooling2D, Dropout\n",
        "from keras.optimizers import SGD, Adam, RMSprop\n",
        "from sklearn.metrics import confusion_matrix\n",
        "import seaborn as sns\n",
        "\n",
        "\n",
        "###################################\n",
        "\n",
        "font = {'weight' : 'bold',\n",
        "        'size'   : 12}\n",
        "\n",
        "matplotlib.rc('font', **font)"
      ]
    },
    {
      "cell_type": "markdown",
      "id": "9c4af957-fee1-4806-9d68-797d74c332df",
      "metadata": {
        "id": "9c4af957-fee1-4806-9d68-797d74c332df"
      },
      "source": [
        "### 1. Dataset"
      ]
    },
    {
      "cell_type": "markdown",
      "id": "33cf2443-c2ed-4aaa-9b10-fa598a4fb6cb",
      "metadata": {
        "id": "33cf2443-c2ed-4aaa-9b10-fa598a4fb6cb"
      },
      "source": [
        "#### 1.1 Load Dataset"
      ]
    },
    {
      "cell_type": "markdown",
      "id": "dd860d81-ab4d-48d2-a071-e0e8aec8000f",
      "metadata": {
        "id": "dd860d81-ab4d-48d2-a071-e0e8aec8000f"
      },
      "source": [
        "You can load the dataset using the following code"
      ]
    },
    {
      "cell_type": "code",
      "execution_count": 3,
      "id": "1b6f52dc-788b-4481-95f2-c4de31cae037",
      "metadata": {
        "colab": {
          "base_uri": "https://localhost:8080/"
        },
        "id": "1b6f52dc-788b-4481-95f2-c4de31cae037",
        "outputId": "b0dce701-dd99-4a29-e4f7-28f62b1d915d"
      },
      "outputs": [
        {
          "output_type": "stream",
          "name": "stdout",
          "text": [
            "Downloading data from https://storage.googleapis.com/tensorflow/tf-keras-datasets/mnist.npz\n",
            "11490434/11490434 [==============================] - 0s 0us/step\n"
          ]
        }
      ],
      "source": [
        "(X_train, y_train), (X_test, y_test) = mnist.load_data()"
      ]
    },
    {
      "cell_type": "markdown",
      "id": "853727ee-5836-4345-84dd-b0135b33e6d3",
      "metadata": {
        "id": "853727ee-5836-4345-84dd-b0135b33e6d3"
      },
      "source": [
        "#### 1.2 Dataset examination"
      ]
    },
    {
      "cell_type": "markdown",
      "id": "93e9f48e-3192-494a-9b0f-e2f66a7c286e",
      "metadata": {
        "id": "93e9f48e-3192-494a-9b0f-e2f66a7c286e"
      },
      "source": [
        "Using the following code, display random images,"
      ]
    },
    {
      "cell_type": "code",
      "execution_count": 4,
      "id": "522d7c5e-f50b-46d0-b79d-799d40ff2f1e",
      "metadata": {
        "id": "522d7c5e-f50b-46d0-b79d-799d40ff2f1e"
      },
      "outputs": [],
      "source": [
        "def display_random_images(x_data: np.array, y_data: np.array, count: int = 10) -> None:\n",
        "  index = np.array(len(x_data))\n",
        "  selected_ind = np.random.choice(index, count)\n",
        "\n",
        "  selected_img = x_data[selected_ind]\n",
        "  selected_labels = y_data[selected_ind]\n",
        "  concat_img = np.concatenate(selected_img, axis=1)\n",
        "\n",
        "  plt.figure(figsize=(20,10))\n",
        "  plt.imshow(concat_img, cmap=\"gray\")\n",
        "\n",
        "  for id_label, label in enumerate(selected_labels):\n",
        "    plt.text(14 + 28*id_label, 28*(5/4), label)\n",
        "  plt.axis('off')\n",
        "  plt.show()"
      ]
    },
    {
      "cell_type": "code",
      "execution_count": 5,
      "id": "452ea9c5-8438-4b10-8a0e-ef0e418ba5a0",
      "metadata": {
        "colab": {
          "base_uri": "https://localhost:8080/",
          "height": 208
        },
        "id": "452ea9c5-8438-4b10-8a0e-ef0e418ba5a0",
        "outputId": "ab4f0d36-87d3-4b8c-b744-5416488e9503"
      },
      "outputs": [
        {
          "output_type": "display_data",
          "data": {
            "text/plain": [
              "<Figure size 2000x1000 with 1 Axes>"
            ],
            "image/png": "[encoded data removed]"
          },
          "metadata": {}
        }
      ],
      "source": [
        "display_random_images(X_train, y_train)"
      ]
    },
    {
      "cell_type": "markdown",
      "id": "6c0e3651-3921-4485-bdae-3731afcf03a2",
      "metadata": {
        "id": "6c0e3651-3921-4485-bdae-3731afcf03a2"
      },
      "source": [
        "Examine the dataset. Answer for yourself the following questions:\n",
        "\n",
        "- What kind of data occurs in our dataset? **Images of handwritten digits**\n",
        "\n",
        "- How many data samples do we have in train and test datasets? **60.000 images for training and 10.000 for testing**\n",
        "- How many colour channels does the input variable have? **one color channel, representing grayscale values. Each pixel is typically represented by a single intensity value ranging from 0 (black) to 255 (white).**\n",
        "- What is the size of the input images? **28x28 pixels**\n",
        "- What is the necessary preprocessing of the input data X?\n",
        "**In the case of a convolutional neural network (CNN), the input images may need to be reshaped to have a shape of (28, 28, 1) to represent the height, width, and number of color channels.**\n",
        "- How many classes do we have in target variable? **10 classes in the target variable, corresponding to the digits 0 through 9.**\n",
        "- What is the necessary preprocessing of target variable y? **The necessary preprocessing of the target variable y typically involves one-hot encoding, where each class label is represented as a binary vector with a 1 at the index corresponding to the class and 0s elsewhere. This is necessary for training a multi-class classification model.**"
      ]
    },
    {
      "cell_type": "code",
      "source": [
        "# Labels representing the dataset\n",
        "labels = {0:'0',1:'1',2:'2',3:'3',4:'4',5:'5',6:'6',7:'7',8:'8',9:'9'}\n",
        "\n",
        "# Check the shape of image dataset\n",
        "X_train.shape"
      ],
      "metadata": {
        "colab": {
          "base_uri": "https://localhost:8080/"
        },
        "id": "m2h5VkJN9QPB",
        "outputId": "95a0f095-4627-4af2-a833-101c27241982"
      },
      "id": "m2h5VkJN9QPB",
      "execution_count": 6,
      "outputs": [
        {
          "output_type": "execute_result",
          "data": {
            "text/plain": [
              "(60000, 28, 28)"
            ]
          },
          "metadata": {},
          "execution_count": 6
        }
      ]
    },
    {
      "cell_type": "markdown",
      "id": "08273dd4-05d0-4cd8-b989-eca8a4d1328a",
      "metadata": {
        "id": "08273dd4-05d0-4cd8-b989-eca8a4d1328a"
      },
      "source": [
        "#### 1.3 Dataset preprocessing"
      ]
    },
    {
      "cell_type": "markdown",
      "id": "2c16ee55-312f-4ee5-86cd-e09426e16e82",
      "metadata": {
        "id": "2c16ee55-312f-4ee5-86cd-e09426e16e82"
      },
      "source": [
        "Perform the necessary data preprocessing. The best way to preprocess the data would be one hot encoding for the target variable and normalization for the input variable (using min-max or z-score normalization)"
      ]
    },
    {
      "cell_type": "code",
      "execution_count": 7,
      "id": "e07697fb-0feb-4df1-8ed2-b7b20f0c015f",
      "metadata": {
        "id": "e07697fb-0feb-4df1-8ed2-b7b20f0c015f"
      },
      "outputs": [],
      "source": [
        "#\n",
        "\n",
        "X_train_scaled = X_train.astype(np.float32) / 255.0\n",
        "y_train_encoded = to_categorical(y_train, num_classes=10)"
      ]
    },
    {
      "cell_type": "markdown",
      "id": "d20d5fef-cbca-48a2-844f-c9638f0b6bf9",
      "metadata": {
        "id": "d20d5fef-cbca-48a2-844f-c9638f0b6bf9"
      },
      "source": [
        "### 2. Build the model"
      ]
    },
    {
      "cell_type": "markdown",
      "id": "ea554fcf-7acd-4453-b18d-b4982f6a10eb",
      "metadata": {
        "id": "ea554fcf-7acd-4453-b18d-b4982f6a10eb"
      },
      "source": [
        "In this section, your task will be to define the model architecture. The intial structure can be defined as follows:\n",
        "\n",
        "Input_layer -> Convolutional_layer(kernel_size=(3,3), no_channels=32) -> Maxpooling_layer(kernel_size=(2, 2)) -> Flatten_layer -> Dense_layer (num_classes)\n",
        "    \n",
        "    \n"
      ]
    },
    {
      "cell_type": "markdown",
      "id": "0ffd3896-079e-4758-9579-387f33af9691",
      "metadata": {
        "id": "0ffd3896-079e-4758-9579-387f33af9691"
      },
      "source": [
        "#### 2.1 Define the model structure"
      ]
    },
    {
      "cell_type": "code",
      "execution_count": 57,
      "id": "77238bdf-ad74-4246-920d-a1dc28564306",
      "metadata": {
        "id": "77238bdf-ad74-4246-920d-a1dc28564306"
      },
      "outputs": [],
      "source": [
        "#\n",
        "\n",
        "model = Sequential([\n",
        "\n",
        "    # CNN : Convolution and MaxPooling layers\n",
        "    Conv2D(32, (3, 3), activation='relu', input_shape=(28, 28, 1)),\n",
        "    MaxPooling2D((2, 2)),\n",
        "\n",
        "    Dropout(0.2),\n",
        "\n",
        "    Conv2D(64, (3, 3), activation='relu'),\n",
        "    MaxPooling2D((2, 2)),\n",
        "\n",
        "    Dropout(0.2),\n",
        "\n",
        "    # Dense layers\n",
        "    Flatten(),\n",
        "    Dense(10, activation='softmax')\n",
        "\n",
        "])\n",
        "\n"
      ]
    },
    {
      "cell_type": "markdown",
      "id": "fde4b3eb-90e1-4724-89df-0db1872560d4",
      "metadata": {
        "id": "fde4b3eb-90e1-4724-89df-0db1872560d4"
      },
      "source": [
        "#### 2.2 Compile the model"
      ]
    },
    {
      "cell_type": "markdown",
      "id": "a467f8fb-8bfc-4cd4-9eee-820c1b9b5a52",
      "metadata": {
        "id": "a467f8fb-8bfc-4cd4-9eee-820c1b9b5a52"
      },
      "source": [
        "Build the model, use the relevant metrics, optimizer and loss function. While choosing the metrics and loss function, consider fact that we are are trying to solve the multiclass classification problem"
      ]
    },
    {
      "cell_type": "code",
      "source": [
        "model.summary()"
      ],
      "metadata": {
        "colab": {
          "base_uri": "https://localhost:8080/"
        },
        "id": "LEm8ty36Ek5v",
        "outputId": "f48b0cb5-70af-4896-884e-d7c6d6eb82e9"
      },
      "id": "LEm8ty36Ek5v",
      "execution_count": 58,
      "outputs": [
        {
          "output_type": "stream",
          "name": "stdout",
          "text": [
            "Model: \"sequential_5\"\n",
            "_________________________________________________________________\n",
            " Layer (type)                Output Shape              Param #   \n",
            "=================================================================\n",
            " conv2d_10 (Conv2D)          (None, 26, 26, 32)        320       \n",
            "                                                                 \n",
            " max_pooling2d_10 (MaxPooli  (None, 13, 13, 32)        0         \n",
            " ng2D)                                                           \n",
            "                                                                 \n",
            " dropout_2 (Dropout)         (None, 13, 13, 32)        0         \n",
            "                                                                 \n",
            " conv2d_11 (Conv2D)          (None, 11, 11, 64)        18496     \n",
            "                                                                 \n",
            " max_pooling2d_11 (MaxPooli  (None, 5, 5, 64)          0         \n",
            " ng2D)                                                           \n",
            "                                                                 \n",
            " dropout_3 (Dropout)         (None, 5, 5, 64)          0         \n",
            "                                                                 \n",
            " flatten_5 (Flatten)         (None, 1600)              0         \n",
            "                                                                 \n",
            " dense_5 (Dense)             (None, 10)                16010     \n",
            "                                                                 \n",
            "=================================================================\n",
            "Total params: 34826 (136.04 KB)\n",
            "Trainable params: 34826 (136.04 KB)\n",
            "Non-trainable params: 0 (0.00 Byte)\n",
            "_________________________________________________________________\n"
          ]
        }
      ]
    },
    {
      "cell_type": "code",
      "execution_count": 59,
      "id": "e6d1a924-9e2f-4ca2-b4d6-4724f51ae065",
      "metadata": {
        "id": "e6d1a924-9e2f-4ca2-b4d6-4724f51ae065"
      },
      "outputs": [],
      "source": [
        "#\n",
        "\n",
        "loss = 'categorical_crossentropy'\n",
        "metrics = ['accuracy']\n",
        "learning_rate = 0.001\n",
        "optimizer = Adam(learning_rate = 0.0001)\n",
        "\n",
        "\n",
        "model.compile(loss=loss, optimizer=optimizer, metrics=metrics)"
      ]
    },
    {
      "cell_type": "markdown",
      "id": "f146b70f-2e8c-484f-abfd-6fc4a8b8177b",
      "metadata": {
        "id": "f146b70f-2e8c-484f-abfd-6fc4a8b8177b"
      },
      "source": [
        "### 3. Training stage"
      ]
    },
    {
      "cell_type": "markdown",
      "id": "cb1de787-9e40-47e2-bc54-44ccd1864357",
      "metadata": {
        "id": "cb1de787-9e40-47e2-bc54-44ccd1864357"
      },
      "source": [
        "#### 3.1 Model training"
      ]
    },
    {
      "cell_type": "markdown",
      "id": "2b9c7722-aed7-4b2d-a292-572921f0734b",
      "metadata": {
        "id": "2b9c7722-aed7-4b2d-a292-572921f0734b"
      },
      "source": [
        "train your model, define the relevant hyperparameters (no. epochs, batch_size), use 20p of the training data for validation"
      ]
    },
    {
      "cell_type": "code",
      "execution_count": 60,
      "id": "4f858566-601d-4873-ad02-a0635bd8f526",
      "metadata": {
        "colab": {
          "base_uri": "https://localhost:8080/"
        },
        "id": "4f858566-601d-4873-ad02-a0635bd8f526",
        "outputId": "a288a526-70ce-4140-eb0c-63e31e1c8a70"
      },
      "outputs": [
        {
          "output_type": "stream",
          "name": "stdout",
          "text": [
            "Epoch 1/150\n",
            "94/94 [==============================] - 3s 18ms/step - loss: 2.1137 - accuracy: 0.4105 - val_loss: 1.7820 - val_accuracy: 0.7586\n",
            "Epoch 2/150\n",
            "94/94 [==============================] - 1s 13ms/step - loss: 1.2743 - accuracy: 0.7178 - val_loss: 0.7851 - val_accuracy: 0.8274\n",
            "Epoch 3/150\n",
            "94/94 [==============================] - 1s 12ms/step - loss: 0.6948 - accuracy: 0.8045 - val_loss: 0.4845 - val_accuracy: 0.8790\n",
            "Epoch 4/150\n",
            "94/94 [==============================] - 1s 12ms/step - loss: 0.5185 - accuracy: 0.8483 - val_loss: 0.3747 - val_accuracy: 0.9018\n",
            "Epoch 5/150\n",
            "94/94 [==============================] - 1s 13ms/step - loss: 0.4307 - accuracy: 0.8711 - val_loss: 0.3158 - val_accuracy: 0.9141\n",
            "Epoch 6/150\n",
            "94/94 [==============================] - 1s 12ms/step - loss: 0.3740 - accuracy: 0.8874 - val_loss: 0.2747 - val_accuracy: 0.9239\n",
            "Epoch 7/150\n",
            "94/94 [==============================] - 1s 12ms/step - loss: 0.3291 - accuracy: 0.9006 - val_loss: 0.2445 - val_accuracy: 0.9334\n",
            "Epoch 8/150\n",
            "94/94 [==============================] - 1s 12ms/step - loss: 0.2956 - accuracy: 0.9122 - val_loss: 0.2184 - val_accuracy: 0.9403\n",
            "Epoch 9/150\n",
            "94/94 [==============================] - 1s 13ms/step - loss: 0.2656 - accuracy: 0.9206 - val_loss: 0.1976 - val_accuracy: 0.9464\n",
            "Epoch 10/150\n",
            "94/94 [==============================] - 2s 17ms/step - loss: 0.2413 - accuracy: 0.9274 - val_loss: 0.1802 - val_accuracy: 0.9508\n",
            "Epoch 11/150\n",
            "94/94 [==============================] - 2s 21ms/step - loss: 0.2213 - accuracy: 0.9337 - val_loss: 0.1662 - val_accuracy: 0.9538\n",
            "Epoch 12/150\n",
            "94/94 [==============================] - 1s 12ms/step - loss: 0.2043 - accuracy: 0.9397 - val_loss: 0.1539 - val_accuracy: 0.9583\n",
            "Epoch 13/150\n",
            "94/94 [==============================] - 1s 13ms/step - loss: 0.1904 - accuracy: 0.9435 - val_loss: 0.1437 - val_accuracy: 0.9605\n",
            "Epoch 14/150\n",
            "94/94 [==============================] - 1s 13ms/step - loss: 0.1780 - accuracy: 0.9463 - val_loss: 0.1358 - val_accuracy: 0.9626\n",
            "Epoch 15/150\n",
            "94/94 [==============================] - 1s 13ms/step - loss: 0.1686 - accuracy: 0.9490 - val_loss: 0.1285 - val_accuracy: 0.9651\n",
            "Epoch 16/150\n",
            "94/94 [==============================] - 1s 13ms/step - loss: 0.1588 - accuracy: 0.9525 - val_loss: 0.1225 - val_accuracy: 0.9676\n",
            "Epoch 17/150\n",
            "94/94 [==============================] - 1s 12ms/step - loss: 0.1524 - accuracy: 0.9539 - val_loss: 0.1168 - val_accuracy: 0.9682\n",
            "Epoch 18/150\n",
            "94/94 [==============================] - 1s 13ms/step - loss: 0.1471 - accuracy: 0.9558 - val_loss: 0.1122 - val_accuracy: 0.9694\n",
            "Epoch 19/150\n",
            "94/94 [==============================] - 1s 13ms/step - loss: 0.1413 - accuracy: 0.9575 - val_loss: 0.1080 - val_accuracy: 0.9709\n",
            "Epoch 20/150\n",
            "94/94 [==============================] - 1s 13ms/step - loss: 0.1355 - accuracy: 0.9596 - val_loss: 0.1041 - val_accuracy: 0.9718\n",
            "Epoch 21/150\n",
            "94/94 [==============================] - 1s 14ms/step - loss: 0.1302 - accuracy: 0.9603 - val_loss: 0.1006 - val_accuracy: 0.9729\n",
            "Epoch 22/150\n",
            "94/94 [==============================] - 1s 13ms/step - loss: 0.1262 - accuracy: 0.9617 - val_loss: 0.0981 - val_accuracy: 0.9734\n",
            "Epoch 23/150\n",
            "94/94 [==============================] - 1s 12ms/step - loss: 0.1237 - accuracy: 0.9623 - val_loss: 0.0950 - val_accuracy: 0.9740\n",
            "Epoch 24/150\n",
            "94/94 [==============================] - 1s 12ms/step - loss: 0.1190 - accuracy: 0.9640 - val_loss: 0.0929 - val_accuracy: 0.9743\n",
            "Epoch 25/150\n",
            "94/94 [==============================] - 1s 13ms/step - loss: 0.1162 - accuracy: 0.9646 - val_loss: 0.0905 - val_accuracy: 0.9753\n",
            "Epoch 26/150\n",
            "94/94 [==============================] - 1s 13ms/step - loss: 0.1116 - accuracy: 0.9656 - val_loss: 0.0875 - val_accuracy: 0.9758\n",
            "Epoch 27/150\n",
            "94/94 [==============================] - 1s 12ms/step - loss: 0.1093 - accuracy: 0.9667 - val_loss: 0.0856 - val_accuracy: 0.9758\n",
            "Epoch 28/150\n",
            "94/94 [==============================] - 1s 13ms/step - loss: 0.1082 - accuracy: 0.9673 - val_loss: 0.0836 - val_accuracy: 0.9770\n",
            "Epoch 29/150\n",
            "94/94 [==============================] - 1s 13ms/step - loss: 0.1044 - accuracy: 0.9681 - val_loss: 0.0825 - val_accuracy: 0.9774\n",
            "Epoch 30/150\n",
            "94/94 [==============================] - 1s 13ms/step - loss: 0.1009 - accuracy: 0.9692 - val_loss: 0.0805 - val_accuracy: 0.9770\n",
            "Epoch 31/150\n",
            "94/94 [==============================] - 1s 14ms/step - loss: 0.0995 - accuracy: 0.9692 - val_loss: 0.0789 - val_accuracy: 0.9787\n",
            "Epoch 32/150\n",
            "94/94 [==============================] - 1s 13ms/step - loss: 0.0981 - accuracy: 0.9696 - val_loss: 0.0777 - val_accuracy: 0.9785\n",
            "Epoch 33/150\n",
            "94/94 [==============================] - 1s 12ms/step - loss: 0.0964 - accuracy: 0.9700 - val_loss: 0.0773 - val_accuracy: 0.9787\n",
            "Epoch 34/150\n",
            "94/94 [==============================] - 1s 12ms/step - loss: 0.0938 - accuracy: 0.9717 - val_loss: 0.0751 - val_accuracy: 0.9790\n",
            "Epoch 35/150\n",
            "94/94 [==============================] - 1s 13ms/step - loss: 0.0905 - accuracy: 0.9718 - val_loss: 0.0734 - val_accuracy: 0.9794\n",
            "Epoch 36/150\n",
            "94/94 [==============================] - 1s 13ms/step - loss: 0.0910 - accuracy: 0.9717 - val_loss: 0.0730 - val_accuracy: 0.9795\n",
            "Epoch 37/150\n",
            "94/94 [==============================] - 1s 12ms/step - loss: 0.0888 - accuracy: 0.9726 - val_loss: 0.0712 - val_accuracy: 0.9800\n",
            "Epoch 38/150\n",
            "94/94 [==============================] - 1s 12ms/step - loss: 0.0860 - accuracy: 0.9737 - val_loss: 0.0699 - val_accuracy: 0.9807\n",
            "Epoch 39/150\n",
            "94/94 [==============================] - 1s 12ms/step - loss: 0.0851 - accuracy: 0.9743 - val_loss: 0.0692 - val_accuracy: 0.9813\n",
            "Epoch 40/150\n",
            "94/94 [==============================] - 1s 13ms/step - loss: 0.0839 - accuracy: 0.9742 - val_loss: 0.0676 - val_accuracy: 0.9812\n",
            "Epoch 41/150\n",
            "94/94 [==============================] - 1s 14ms/step - loss: 0.0822 - accuracy: 0.9744 - val_loss: 0.0670 - val_accuracy: 0.9812\n",
            "Epoch 42/150\n",
            "94/94 [==============================] - 1s 13ms/step - loss: 0.0816 - accuracy: 0.9750 - val_loss: 0.0656 - val_accuracy: 0.9810\n",
            "Epoch 43/150\n",
            "94/94 [==============================] - 1s 13ms/step - loss: 0.0797 - accuracy: 0.9759 - val_loss: 0.0648 - val_accuracy: 0.9822\n",
            "Epoch 44/150\n",
            "94/94 [==============================] - 1s 12ms/step - loss: 0.0781 - accuracy: 0.9763 - val_loss: 0.0642 - val_accuracy: 0.9827\n",
            "Epoch 45/150\n",
            "94/94 [==============================] - 1s 12ms/step - loss: 0.0776 - accuracy: 0.9759 - val_loss: 0.0635 - val_accuracy: 0.9826\n",
            "Epoch 46/150\n",
            "94/94 [==============================] - 1s 13ms/step - loss: 0.0763 - accuracy: 0.9769 - val_loss: 0.0625 - val_accuracy: 0.9822\n",
            "Epoch 47/150\n",
            "94/94 [==============================] - 1s 13ms/step - loss: 0.0754 - accuracy: 0.9771 - val_loss: 0.0619 - val_accuracy: 0.9827\n",
            "Epoch 48/150\n",
            "94/94 [==============================] - 1s 12ms/step - loss: 0.0739 - accuracy: 0.9778 - val_loss: 0.0610 - val_accuracy: 0.9828\n",
            "Epoch 49/150\n",
            "94/94 [==============================] - 1s 12ms/step - loss: 0.0752 - accuracy: 0.9768 - val_loss: 0.0600 - val_accuracy: 0.9831\n",
            "Epoch 50/150\n",
            "94/94 [==============================] - 1s 13ms/step - loss: 0.0708 - accuracy: 0.9787 - val_loss: 0.0596 - val_accuracy: 0.9834\n",
            "Epoch 51/150\n",
            "94/94 [==============================] - 1s 14ms/step - loss: 0.0700 - accuracy: 0.9783 - val_loss: 0.0589 - val_accuracy: 0.9833\n",
            "Epoch 52/150\n",
            "94/94 [==============================] - 1s 14ms/step - loss: 0.0689 - accuracy: 0.9788 - val_loss: 0.0583 - val_accuracy: 0.9836\n",
            "Epoch 53/150\n",
            "94/94 [==============================] - 1s 13ms/step - loss: 0.0700 - accuracy: 0.9791 - val_loss: 0.0579 - val_accuracy: 0.9840\n",
            "Epoch 54/150\n",
            "94/94 [==============================] - 1s 12ms/step - loss: 0.0684 - accuracy: 0.9796 - val_loss: 0.0572 - val_accuracy: 0.9839\n",
            "Epoch 55/150\n",
            "94/94 [==============================] - 1s 12ms/step - loss: 0.0676 - accuracy: 0.9793 - val_loss: 0.0560 - val_accuracy: 0.9843\n",
            "Epoch 56/150\n",
            "94/94 [==============================] - 1s 12ms/step - loss: 0.0669 - accuracy: 0.9792 - val_loss: 0.0561 - val_accuracy: 0.9839\n",
            "Epoch 57/150\n",
            "94/94 [==============================] - 1s 13ms/step - loss: 0.0649 - accuracy: 0.9802 - val_loss: 0.0551 - val_accuracy: 0.9844\n",
            "Epoch 58/150\n",
            "94/94 [==============================] - 1s 12ms/step - loss: 0.0651 - accuracy: 0.9796 - val_loss: 0.0543 - val_accuracy: 0.9845\n",
            "Epoch 59/150\n",
            "94/94 [==============================] - 1s 13ms/step - loss: 0.0645 - accuracy: 0.9803 - val_loss: 0.0546 - val_accuracy: 0.9850\n",
            "Epoch 60/150\n",
            "94/94 [==============================] - 1s 13ms/step - loss: 0.0631 - accuracy: 0.9804 - val_loss: 0.0536 - val_accuracy: 0.9847\n",
            "Epoch 61/150\n",
            "94/94 [==============================] - 1s 16ms/step - loss: 0.0623 - accuracy: 0.9808 - val_loss: 0.0532 - val_accuracy: 0.9849\n",
            "Epoch 62/150\n",
            "94/94 [==============================] - 1s 13ms/step - loss: 0.0609 - accuracy: 0.9813 - val_loss: 0.0527 - val_accuracy: 0.9851\n",
            "Epoch 63/150\n",
            "94/94 [==============================] - 1s 13ms/step - loss: 0.0618 - accuracy: 0.9805 - val_loss: 0.0528 - val_accuracy: 0.9849\n",
            "Epoch 64/150\n",
            "94/94 [==============================] - 1s 12ms/step - loss: 0.0597 - accuracy: 0.9816 - val_loss: 0.0517 - val_accuracy: 0.9848\n",
            "Epoch 65/150\n",
            "94/94 [==============================] - 1s 13ms/step - loss: 0.0590 - accuracy: 0.9814 - val_loss: 0.0515 - val_accuracy: 0.9851\n",
            "Epoch 66/150\n",
            "94/94 [==============================] - 1s 13ms/step - loss: 0.0596 - accuracy: 0.9817 - val_loss: 0.0506 - val_accuracy: 0.9849\n",
            "Epoch 67/150\n",
            "94/94 [==============================] - 1s 13ms/step - loss: 0.0587 - accuracy: 0.9818 - val_loss: 0.0509 - val_accuracy: 0.9855\n",
            "Epoch 68/150\n",
            "94/94 [==============================] - 1s 12ms/step - loss: 0.0576 - accuracy: 0.9819 - val_loss: 0.0511 - val_accuracy: 0.9850\n",
            "Epoch 69/150\n",
            "94/94 [==============================] - 1s 13ms/step - loss: 0.0568 - accuracy: 0.9825 - val_loss: 0.0505 - val_accuracy: 0.9858\n",
            "Epoch 70/150\n",
            "94/94 [==============================] - 1s 13ms/step - loss: 0.0550 - accuracy: 0.9830 - val_loss: 0.0496 - val_accuracy: 0.9857\n",
            "Epoch 71/150\n",
            "94/94 [==============================] - 1s 14ms/step - loss: 0.0552 - accuracy: 0.9831 - val_loss: 0.0495 - val_accuracy: 0.9858\n",
            "Epoch 72/150\n",
            "94/94 [==============================] - 1s 13ms/step - loss: 0.0546 - accuracy: 0.9835 - val_loss: 0.0491 - val_accuracy: 0.9856\n",
            "Epoch 73/150\n",
            "94/94 [==============================] - 1s 13ms/step - loss: 0.0536 - accuracy: 0.9832 - val_loss: 0.0484 - val_accuracy: 0.9857\n",
            "Epoch 74/150\n",
            "94/94 [==============================] - 1s 13ms/step - loss: 0.0533 - accuracy: 0.9834 - val_loss: 0.0482 - val_accuracy: 0.9860\n",
            "Epoch 75/150\n",
            "94/94 [==============================] - 1s 13ms/step - loss: 0.0537 - accuracy: 0.9830 - val_loss: 0.0478 - val_accuracy: 0.9861\n",
            "Epoch 76/150\n",
            "94/94 [==============================] - 1s 12ms/step - loss: 0.0527 - accuracy: 0.9837 - val_loss: 0.0475 - val_accuracy: 0.9864\n",
            "Epoch 77/150\n",
            "94/94 [==============================] - 1s 13ms/step - loss: 0.0517 - accuracy: 0.9842 - val_loss: 0.0476 - val_accuracy: 0.9859\n",
            "Epoch 78/150\n",
            "94/94 [==============================] - 1s 12ms/step - loss: 0.0529 - accuracy: 0.9837 - val_loss: 0.0471 - val_accuracy: 0.9858\n",
            "Epoch 79/150\n",
            "94/94 [==============================] - 1s 13ms/step - loss: 0.0512 - accuracy: 0.9848 - val_loss: 0.0467 - val_accuracy: 0.9863\n",
            "Epoch 80/150\n",
            "94/94 [==============================] - 1s 13ms/step - loss: 0.0507 - accuracy: 0.9847 - val_loss: 0.0463 - val_accuracy: 0.9863\n",
            "Epoch 81/150\n",
            "94/94 [==============================] - 1s 14ms/step - loss: 0.0513 - accuracy: 0.9841 - val_loss: 0.0465 - val_accuracy: 0.9864\n",
            "Epoch 82/150\n",
            "94/94 [==============================] - 1s 12ms/step - loss: 0.0497 - accuracy: 0.9847 - val_loss: 0.0472 - val_accuracy: 0.9864\n",
            "Epoch 83/150\n",
            "94/94 [==============================] - 1s 12ms/step - loss: 0.0500 - accuracy: 0.9842 - val_loss: 0.0457 - val_accuracy: 0.9867\n",
            "Epoch 84/150\n",
            "94/94 [==============================] - 1s 12ms/step - loss: 0.0500 - accuracy: 0.9842 - val_loss: 0.0454 - val_accuracy: 0.9868\n",
            "Epoch 85/150\n",
            "94/94 [==============================] - 1s 13ms/step - loss: 0.0474 - accuracy: 0.9855 - val_loss: 0.0447 - val_accuracy: 0.9868\n",
            "Epoch 86/150\n",
            "94/94 [==============================] - 1s 13ms/step - loss: 0.0486 - accuracy: 0.9851 - val_loss: 0.0450 - val_accuracy: 0.9868\n",
            "Epoch 87/150\n",
            "94/94 [==============================] - 1s 13ms/step - loss: 0.0479 - accuracy: 0.9845 - val_loss: 0.0452 - val_accuracy: 0.9868\n",
            "Epoch 88/150\n",
            "94/94 [==============================] - 1s 13ms/step - loss: 0.0488 - accuracy: 0.9846 - val_loss: 0.0447 - val_accuracy: 0.9868\n",
            "Epoch 89/150\n",
            "94/94 [==============================] - 1s 13ms/step - loss: 0.0461 - accuracy: 0.9855 - val_loss: 0.0447 - val_accuracy: 0.9867\n",
            "Epoch 90/150\n",
            "94/94 [==============================] - 1s 13ms/step - loss: 0.0472 - accuracy: 0.9857 - val_loss: 0.0440 - val_accuracy: 0.9874\n",
            "Epoch 91/150\n",
            "94/94 [==============================] - 1s 14ms/step - loss: 0.0476 - accuracy: 0.9854 - val_loss: 0.0439 - val_accuracy: 0.9873\n",
            "Epoch 92/150\n",
            "94/94 [==============================] - 1s 12ms/step - loss: 0.0466 - accuracy: 0.9847 - val_loss: 0.0441 - val_accuracy: 0.9870\n",
            "Epoch 93/150\n",
            "94/94 [==============================] - 1s 12ms/step - loss: 0.0456 - accuracy: 0.9851 - val_loss: 0.0438 - val_accuracy: 0.9873\n",
            "Epoch 94/150\n",
            "94/94 [==============================] - 1s 13ms/step - loss: 0.0447 - accuracy: 0.9860 - val_loss: 0.0436 - val_accuracy: 0.9872\n",
            "Epoch 95/150\n",
            "94/94 [==============================] - 1s 12ms/step - loss: 0.0454 - accuracy: 0.9862 - val_loss: 0.0436 - val_accuracy: 0.9872\n",
            "Epoch 96/150\n",
            "94/94 [==============================] - 1s 13ms/step - loss: 0.0449 - accuracy: 0.9864 - val_loss: 0.0431 - val_accuracy: 0.9874\n",
            "Epoch 97/150\n",
            "94/94 [==============================] - 1s 12ms/step - loss: 0.0442 - accuracy: 0.9861 - val_loss: 0.0432 - val_accuracy: 0.9870\n",
            "Epoch 98/150\n",
            "94/94 [==============================] - 1s 12ms/step - loss: 0.0436 - accuracy: 0.9865 - val_loss: 0.0425 - val_accuracy: 0.9878\n",
            "Epoch 99/150\n",
            "94/94 [==============================] - 1s 13ms/step - loss: 0.0422 - accuracy: 0.9868 - val_loss: 0.0424 - val_accuracy: 0.9877\n",
            "Epoch 100/150\n",
            "94/94 [==============================] - 1s 13ms/step - loss: 0.0438 - accuracy: 0.9863 - val_loss: 0.0425 - val_accuracy: 0.9879\n",
            "Epoch 101/150\n",
            "94/94 [==============================] - 1s 14ms/step - loss: 0.0419 - accuracy: 0.9871 - val_loss: 0.0419 - val_accuracy: 0.9877\n",
            "Epoch 102/150\n",
            "94/94 [==============================] - 1s 13ms/step - loss: 0.0423 - accuracy: 0.9869 - val_loss: 0.0429 - val_accuracy: 0.9874\n",
            "Epoch 103/150\n",
            "94/94 [==============================] - 1s 12ms/step - loss: 0.0428 - accuracy: 0.9870 - val_loss: 0.0419 - val_accuracy: 0.9879\n",
            "Epoch 104/150\n",
            "94/94 [==============================] - 1s 12ms/step - loss: 0.0419 - accuracy: 0.9870 - val_loss: 0.0415 - val_accuracy: 0.9879\n",
            "Epoch 105/150\n",
            "94/94 [==============================] - 1s 12ms/step - loss: 0.0426 - accuracy: 0.9869 - val_loss: 0.0412 - val_accuracy: 0.9877\n",
            "Epoch 106/150\n",
            "94/94 [==============================] - 1s 12ms/step - loss: 0.0415 - accuracy: 0.9870 - val_loss: 0.0417 - val_accuracy: 0.9877\n",
            "Epoch 107/150\n",
            "94/94 [==============================] - 1s 12ms/step - loss: 0.0406 - accuracy: 0.9871 - val_loss: 0.0412 - val_accuracy: 0.9879\n",
            "Epoch 108/150\n",
            "94/94 [==============================] - 1s 12ms/step - loss: 0.0418 - accuracy: 0.9865 - val_loss: 0.0418 - val_accuracy: 0.9874\n",
            "Epoch 109/150\n",
            "94/94 [==============================] - 1s 12ms/step - loss: 0.0393 - accuracy: 0.9878 - val_loss: 0.0406 - val_accuracy: 0.9883\n",
            "Epoch 110/150\n",
            "94/94 [==============================] - 1s 13ms/step - loss: 0.0403 - accuracy: 0.9872 - val_loss: 0.0410 - val_accuracy: 0.9883\n",
            "Epoch 111/150\n",
            "94/94 [==============================] - 1s 14ms/step - loss: 0.0401 - accuracy: 0.9874 - val_loss: 0.0416 - val_accuracy: 0.9879\n",
            "Epoch 112/150\n",
            "94/94 [==============================] - 1s 13ms/step - loss: 0.0412 - accuracy: 0.9870 - val_loss: 0.0407 - val_accuracy: 0.9876\n",
            "Epoch 113/150\n",
            "94/94 [==============================] - 1s 12ms/step - loss: 0.0391 - accuracy: 0.9878 - val_loss: 0.0405 - val_accuracy: 0.9885\n",
            "Epoch 114/150\n",
            "94/94 [==============================] - 1s 13ms/step - loss: 0.0385 - accuracy: 0.9877 - val_loss: 0.0406 - val_accuracy: 0.9883\n",
            "Epoch 115/150\n",
            "94/94 [==============================] - 1s 13ms/step - loss: 0.0393 - accuracy: 0.9876 - val_loss: 0.0400 - val_accuracy: 0.9887\n",
            "Epoch 116/150\n",
            "94/94 [==============================] - 1s 13ms/step - loss: 0.0381 - accuracy: 0.9883 - val_loss: 0.0405 - val_accuracy: 0.9881\n",
            "Epoch 117/150\n",
            "94/94 [==============================] - 1s 12ms/step - loss: 0.0379 - accuracy: 0.9880 - val_loss: 0.0397 - val_accuracy: 0.9885\n",
            "Epoch 118/150\n",
            "94/94 [==============================] - 1s 12ms/step - loss: 0.0375 - accuracy: 0.9883 - val_loss: 0.0396 - val_accuracy: 0.9883\n",
            "Epoch 119/150\n",
            "94/94 [==============================] - 1s 12ms/step - loss: 0.0381 - accuracy: 0.9881 - val_loss: 0.0391 - val_accuracy: 0.9886\n",
            "Epoch 120/150\n",
            "94/94 [==============================] - 1s 13ms/step - loss: 0.0375 - accuracy: 0.9884 - val_loss: 0.0394 - val_accuracy: 0.9884\n",
            "Epoch 121/150\n",
            "94/94 [==============================] - 1s 14ms/step - loss: 0.0380 - accuracy: 0.9883 - val_loss: 0.0397 - val_accuracy: 0.9883\n",
            "Epoch 122/150\n",
            "94/94 [==============================] - 1s 13ms/step - loss: 0.0374 - accuracy: 0.9885 - val_loss: 0.0390 - val_accuracy: 0.9886\n",
            "Epoch 123/150\n",
            "94/94 [==============================] - 1s 12ms/step - loss: 0.0368 - accuracy: 0.9887 - val_loss: 0.0387 - val_accuracy: 0.9890\n",
            "Epoch 124/150\n",
            "94/94 [==============================] - 1s 13ms/step - loss: 0.0359 - accuracy: 0.9883 - val_loss: 0.0392 - val_accuracy: 0.9888\n",
            "Epoch 125/150\n",
            "94/94 [==============================] - 1s 12ms/step - loss: 0.0374 - accuracy: 0.9881 - val_loss: 0.0390 - val_accuracy: 0.9887\n",
            "Epoch 126/150\n",
            "94/94 [==============================] - 1s 13ms/step - loss: 0.0361 - accuracy: 0.9887 - val_loss: 0.0383 - val_accuracy: 0.9886\n",
            "Epoch 127/150\n",
            "94/94 [==============================] - 1s 12ms/step - loss: 0.0364 - accuracy: 0.9887 - val_loss: 0.0387 - val_accuracy: 0.9887\n",
            "Epoch 128/150\n",
            "94/94 [==============================] - 1s 12ms/step - loss: 0.0363 - accuracy: 0.9886 - val_loss: 0.0384 - val_accuracy: 0.9890\n",
            "Epoch 129/150\n",
            "94/94 [==============================] - 1s 13ms/step - loss: 0.0356 - accuracy: 0.9888 - val_loss: 0.0384 - val_accuracy: 0.9891\n",
            "Epoch 130/150\n",
            "94/94 [==============================] - 1s 13ms/step - loss: 0.0348 - accuracy: 0.9894 - val_loss: 0.0383 - val_accuracy: 0.9892\n",
            "Epoch 131/150\n",
            "94/94 [==============================] - 1s 14ms/step - loss: 0.0342 - accuracy: 0.9890 - val_loss: 0.0385 - val_accuracy: 0.9891\n",
            "Epoch 132/150\n",
            "94/94 [==============================] - 1s 13ms/step - loss: 0.0344 - accuracy: 0.9891 - val_loss: 0.0386 - val_accuracy: 0.9889\n",
            "Epoch 133/150\n",
            "94/94 [==============================] - 1s 13ms/step - loss: 0.0365 - accuracy: 0.9885 - val_loss: 0.0379 - val_accuracy: 0.9890\n",
            "Epoch 134/150\n",
            "94/94 [==============================] - 1s 12ms/step - loss: 0.0347 - accuracy: 0.9891 - val_loss: 0.0383 - val_accuracy: 0.9886\n",
            "Epoch 135/150\n",
            "94/94 [==============================] - 1s 12ms/step - loss: 0.0348 - accuracy: 0.9886 - val_loss: 0.0380 - val_accuracy: 0.9889\n",
            "Epoch 136/150\n",
            "94/94 [==============================] - 1s 13ms/step - loss: 0.0331 - accuracy: 0.9897 - val_loss: 0.0376 - val_accuracy: 0.9894\n",
            "Epoch 137/150\n",
            "94/94 [==============================] - 1s 13ms/step - loss: 0.0336 - accuracy: 0.9893 - val_loss: 0.0375 - val_accuracy: 0.9890\n",
            "Epoch 138/150\n",
            "94/94 [==============================] - 1s 13ms/step - loss: 0.0344 - accuracy: 0.9893 - val_loss: 0.0378 - val_accuracy: 0.9889\n",
            "Epoch 139/150\n",
            "94/94 [==============================] - 1s 12ms/step - loss: 0.0348 - accuracy: 0.9886 - val_loss: 0.0372 - val_accuracy: 0.9893\n",
            "Epoch 140/150\n",
            "94/94 [==============================] - 1s 13ms/step - loss: 0.0325 - accuracy: 0.9895 - val_loss: 0.0375 - val_accuracy: 0.9890\n",
            "Epoch 141/150\n",
            "94/94 [==============================] - 1s 14ms/step - loss: 0.0330 - accuracy: 0.9890 - val_loss: 0.0369 - val_accuracy: 0.9891\n",
            "Epoch 142/150\n",
            "94/94 [==============================] - 1s 14ms/step - loss: 0.0336 - accuracy: 0.9894 - val_loss: 0.0373 - val_accuracy: 0.9892\n",
            "Epoch 143/150\n",
            "94/94 [==============================] - 1s 13ms/step - loss: 0.0332 - accuracy: 0.9894 - val_loss: 0.0380 - val_accuracy: 0.9892\n",
            "Epoch 144/150\n",
            "94/94 [==============================] - 1s 12ms/step - loss: 0.0325 - accuracy: 0.9897 - val_loss: 0.0371 - val_accuracy: 0.9892\n",
            "Epoch 145/150\n",
            "94/94 [==============================] - 1s 13ms/step - loss: 0.0331 - accuracy: 0.9897 - val_loss: 0.0370 - val_accuracy: 0.9896\n",
            "Epoch 146/150\n",
            "94/94 [==============================] - 1s 13ms/step - loss: 0.0323 - accuracy: 0.9897 - val_loss: 0.0365 - val_accuracy: 0.9893\n",
            "Epoch 147/150\n",
            "94/94 [==============================] - 1s 13ms/step - loss: 0.0333 - accuracy: 0.9894 - val_loss: 0.0367 - val_accuracy: 0.9898\n",
            "Epoch 148/150\n",
            "94/94 [==============================] - 1s 13ms/step - loss: 0.0325 - accuracy: 0.9897 - val_loss: 0.0368 - val_accuracy: 0.9896\n",
            "Epoch 149/150\n",
            "94/94 [==============================] - 1s 13ms/step - loss: 0.0303 - accuracy: 0.9905 - val_loss: 0.0366 - val_accuracy: 0.9892\n",
            "Epoch 150/150\n",
            "94/94 [==============================] - 1s 13ms/step - loss: 0.0315 - accuracy: 0.9901 - val_loss: 0.0369 - val_accuracy: 0.9892\n"
          ]
        }
      ],
      "source": [
        "epochs = 150\n",
        "batch_size = 512\n",
        "validation_split = 0.2\n",
        "\n",
        "history = model.fit(X_train_scaled, y_train_encoded, epochs=epochs, batch_size=batch_size, validation_split = validation_split)"
      ]
    },
    {
      "cell_type": "markdown",
      "id": "45651f2d-5cc4-4896-8edc-f58b50fed605",
      "metadata": {
        "id": "45651f2d-5cc4-4896-8edc-f58b50fed605"
      },
      "source": [
        "#### 3.1 Model Evaluation on validation data"
      ]
    },
    {
      "cell_type": "markdown",
      "id": "eb4ea2f2-fcc8-4308-82f6-3dbd5857e989",
      "metadata": {
        "id": "eb4ea2f2-fcc8-4308-82f6-3dbd5857e989"
      },
      "source": [
        "Plot the development of the training and validation loss, and training and validation metrics."
      ]
    },
    {
      "cell_type": "code",
      "source": [
        "plt.figure()\n",
        "plt.plot(history.history['accuracy'])\n",
        "plt.plot(history.history['val_accuracy'])"
      ],
      "metadata": {
        "colab": {
          "base_uri": "https://localhost:8080/",
          "height": 452
        },
        "id": "_gEJp7lYGK_I",
        "outputId": "82549f68-90a8-404e-e60f-4c10cf84bc56"
      },
      "id": "_gEJp7lYGK_I",
      "execution_count": 61,
      "outputs": [
        {
          "output_type": "execute_result",
          "data": {
            "text/plain": [
              "[<matplotlib.lines.Line2D at 0x7e71b15a9b40>]"
            ]
          },
          "metadata": {},
          "execution_count": 61
        },
        {
          "output_type": "display_data",
          "data": {
            "text/plain": [
              "<Figure size 640x480 with 1 Axes>"
            ],
            "image/png": "[encoded data removed]"
          },
          "metadata": {}
        }
      ]
    },
    {
      "cell_type": "code",
      "source": [
        "plt.figure()\n",
        "plt.plot(history.history['loss'])\n",
        "plt.plot(history.history['val_loss'])"
      ],
      "metadata": {
        "colab": {
          "base_uri": "https://localhost:8080/",
          "height": 452
        },
        "id": "vEJK_6quGN48",
        "outputId": "1dd05b3f-5a20-46c2-e11f-15f11daeade0"
      },
      "id": "vEJK_6quGN48",
      "execution_count": 62,
      "outputs": [
        {
          "output_type": "execute_result",
          "data": {
            "text/plain": [
              "[<matplotlib.lines.Line2D at 0x7e71b162a650>]"
            ]
          },
          "metadata": {},
          "execution_count": 62
        },
        {
          "output_type": "display_data",
          "data": {
            "text/plain": [
              "<Figure size 640x480 with 1 Axes>"
            ],
            "image/png": "[encoded data removed]"
          },
          "metadata": {}
        }
      ]
    },
    {
      "cell_type": "markdown",
      "id": "22cd86fb-6b4c-4299-a077-fec0ab62464c",
      "metadata": {
        "id": "22cd86fb-6b4c-4299-a077-fec0ab62464c"
      },
      "source": [
        "### 4. Model evaluation"
      ]
    },
    {
      "cell_type": "markdown",
      "id": "9d93b7ad-3416-451d-8762-968f4cf1dd13",
      "metadata": {
        "id": "9d93b7ad-3416-451d-8762-968f4cf1dd13"
      },
      "source": [
        "Evaluate the model on the testing dataset using the relevant metrics. Use the confusion metrics as the one of the metrics."
      ]
    },
    {
      "cell_type": "code",
      "source": [
        "X_test_scaled = X_test.astype('float32') / 255.0\n",
        "y_test_encoded = to_categorical(y_test, num_classes=10)\n",
        "\n",
        "score = model.evaluate(X_test_scaled, y_test_encoded, verbose=0)\n",
        "print('Test loss:', score[0])\n",
        "print(f'Test accuracy: {score[1]*100} %')"
      ],
      "metadata": {
        "colab": {
          "base_uri": "https://localhost:8080/"
        },
        "id": "AidwUdaDPwqa",
        "outputId": "5f8616a1-a986-44d0-f5e5-43eaeceedf68"
      },
      "id": "AidwUdaDPwqa",
      "execution_count": 65,
      "outputs": [
        {
          "output_type": "stream",
          "name": "stdout",
          "text": [
            "Test loss: 0.030351391062140465\n",
            "Test accuracy: 99.04000163078308 %\n"
          ]
        }
      ]
    },
    {
      "cell_type": "code",
      "execution_count": 64,
      "id": "8134b757-aca1-4a0d-a0d2-3a3d0daa8d38",
      "metadata": {
        "colab": {
          "base_uri": "https://localhost:8080/",
          "height": 745
        },
        "id": "8134b757-aca1-4a0d-a0d2-3a3d0daa8d38",
        "outputId": "299e5e45-48e0-432a-ba4d-2b743560f0f5"
      },
      "outputs": [
        {
          "output_type": "stream",
          "name": "stdout",
          "text": [
            "313/313 [==============================] - 1s 2ms/step\n"
          ]
        },
        {
          "output_type": "display_data",
          "data": {
            "text/plain": [
              "<Figure size 1000x800 with 1 Axes>"
            ],
            "image/png": "[encoded data removed]"
          },
          "metadata": {}
        }
      ],
      "source": [
        "#\n",
        "\n",
        "# Calcul of the confusion matrix\n",
        "y_pred = model.predict(X_test_scaled)\n",
        "y_pred_classes = np.argmax(y_pred, axis=1)\n",
        "conf_matrix = confusion_matrix(y_test, y_pred_classes)\n",
        "\n",
        "# Plot of the confusion matrix\n",
        "plt.figure(figsize=(10, 8))\n",
        "sns.heatmap(conf_matrix, annot=True, fmt='g', cmap='Blues', cbar=False)\n",
        "plt.xlabel('Predicted labels')\n",
        "plt.ylabel('True labels')\n",
        "plt.title('Confusion Matrix')\n",
        "plt.show()"
      ]
    },
    {
      "cell_type": "markdown",
      "id": "44a3f72d-1d76-4d98-9f03-1f8293ed6ad6",
      "metadata": {
        "id": "44a3f72d-1d76-4d98-9f03-1f8293ed6ad6"
      },
      "source": [
        "### 5. Hyperparameter tunning and regularization techniques"
      ]
    },
    {
      "cell_type": "markdown",
      "id": "e6140057-ce25-4e97-ae7b-81a47a30bebc",
      "metadata": {
        "id": "e6140057-ce25-4e97-ae7b-81a47a30bebc"
      },
      "source": [
        "When your code is ready and fully functional, try several changes in the hyperparameters and see how they influence the testing metrics. Try changes in the network structure. You can also try adding regularization techniques such as L1, L2, and Dropout. Based on the development of training and validation loss, try to identify overfitting and avoid it"
      ]
    },
    {
      "cell_type": "markdown",
      "source": [
        "Using the code I'd used for lab 06 (I'd already introduced the CNN), I achieved 97% success.\n",
        "By varying the parameters slightly, I managed to achieve an accuracy of 99,04%.   "
      ],
      "metadata": {
        "id": "Nv1zHmBHQETr"
      },
      "id": "Nv1zHmBHQETr"
    }
  ],
  "metadata": {
    "kernelspec": {
      "display_name": "Python 3",
      "name": "python3"
    },
    "language_info": {
      "codemirror_mode": {
        "name": "ipython",
        "version": 3
      },
      "file_extension": ".py",
      "mimetype": "text/x-python",
      "name": "python",
      "nbconvert_exporter": "python",
      "pygments_lexer": "ipython3",
      "version": "3.10.12"
    },
    "colab": {
      "provenance": [],
      "gpuType": "T4",
      "include_colab_link": true
    },
    "accelerator": "GPU"
  },
  "nbformat": 4,
  "nbformat_minor": 5
}